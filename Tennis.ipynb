{
 "cells": [
  {
   "cell_type": "markdown",
   "metadata": {},
   "source": [
    "# Collaboration and Competition\n",
    "\n",
    "---\n",
    "\n",
    "You are welcome to use this coding environment to train your agent for the project.  Follow the instructions below to get started!\n",
    "\n",
    "### 1. Start the Environment\n",
    "\n",
    "Run the next code cell to install a few packages.  This line will take a few minutes to run!"
   ]
  },
  {
   "cell_type": "code",
   "execution_count": 1,
   "metadata": {},
   "outputs": [
    {
     "name": "stdout",
     "output_type": "stream",
     "text": [
      "\u001b[31mtensorflow 1.7.1 has requirement numpy>=1.13.3, but you'll have numpy 1.12.1 which is incompatible.\u001b[0m\r\n",
      "\u001b[31mipython 6.5.0 has requirement prompt-toolkit<2.0.0,>=1.0.15, but you'll have prompt-toolkit 3.0.5 which is incompatible.\u001b[0m\r\n"
     ]
    }
   ],
   "source": [
    "!pip -q install ./python"
   ]
  },
  {
   "cell_type": "markdown",
   "metadata": {},
   "source": [
    "The environment is already saved in the Workspace and can be accessed at the file path provided below. "
   ]
  },
  {
   "cell_type": "code",
   "execution_count": 2,
   "metadata": {},
   "outputs": [
    {
     "name": "stderr",
     "output_type": "stream",
     "text": [
      "INFO:unityagents:\n",
      "'Academy' started successfully!\n",
      "Unity Academy name: Academy\n",
      "        Number of Brains: 1\n",
      "        Number of External Brains : 1\n",
      "        Lesson number : 0\n",
      "        Reset Parameters :\n",
      "\t\t\n",
      "Unity brain name: TennisBrain\n",
      "        Number of Visual Observations (per agent): 0\n",
      "        Vector Observation space type: continuous\n",
      "        Vector Observation space size (per agent): 8\n",
      "        Number of stacked Vector Observation: 3\n",
      "        Vector Action space type: continuous\n",
      "        Vector Action space size (per agent): 2\n",
      "        Vector Action descriptions: , \n"
     ]
    }
   ],
   "source": [
    "from unityagents import UnityEnvironment\n",
    "import numpy as np\n",
    "\n",
    "env = UnityEnvironment(file_name=\"/data/Tennis_Linux_NoVis/Tennis\")"
   ]
  },
  {
   "cell_type": "markdown",
   "metadata": {},
   "source": [
    "Environments contain **_brains_** which are responsible for deciding the actions of their associated agents. Here we check for the first brain available, and set it as the default brain we will be controlling from Python."
   ]
  },
  {
   "cell_type": "code",
   "execution_count": 3,
   "metadata": {},
   "outputs": [],
   "source": [
    "# get the default brain\n",
    "#brain_name = env.brain_names[0]\n",
    "#brain = env.brains[brain_name]"
   ]
  },
  {
   "cell_type": "markdown",
   "metadata": {},
   "source": [
    "### 2. Examine the State and Action Spaces\n",
    "\n",
    "Run the code cell below to print some information about the environment."
   ]
  },
  {
   "cell_type": "code",
   "execution_count": 4,
   "metadata": {},
   "outputs": [],
   "source": [
    "# reset the environment\n",
    "#env_info = env.reset(train_mode=True)[brain_name]\n",
    "\n",
    "# number of agents \n",
    "#num_agents = len(env_info.agents)\n",
    "#print('Number of agents:', num_agents)\n",
    "\n",
    "# size of each action\n",
    "#action_size = brain.vector_action_space_size\n",
    "#print('Size of each action:', action_size)\n",
    "\n",
    "# examine the state space \n",
    "#states = env_info.vector_observations\n",
    "#state_size = states.shape[1]\n",
    "#print('There are {} agents. Each observes a state with length: {}'.format(states.shape[0], state_size))\n",
    "#print('The state for the first agent looks like:', states[0])"
   ]
  },
  {
   "cell_type": "markdown",
   "metadata": {},
   "source": [
    "### 3. Take Random Actions in the Environment\n",
    "\n",
    "In the next code cell, you will learn how to use the Python API to control the agent and receive feedback from the environment.\n",
    "\n",
    "Note that **in this coding environment, you will not be able to watch the agents while they are training**, and you should set `train_mode=True` to restart the environment."
   ]
  },
  {
   "cell_type": "code",
   "execution_count": 5,
   "metadata": {},
   "outputs": [],
   "source": [
    "#for i in range(5):                                         # play game for 5 episodes\n",
    "#    env_info = env.reset(train_mode=False)[brain_name]     # reset the environment    \n",
    "#    states = env_info.vector_observations                  # get the current state (for each agent)\n",
    "#    scores = np.zeros(num_agents)                          # initialize the score (for each agent)\n",
    "#    while True:\n",
    "#        actions = np.random.randn(num_agents, action_size) # select an action (for each agent)\n",
    "#        actions = np.clip(actions, -1, 1)                  # all actions between -1 and 1\n",
    "#        env_info = env.step(actions)[brain_name]           # send all actions to tne environment\n",
    "#        next_states = env_info.vector_observations         # get next state (for each agent)\n",
    "#        rewards = env_info.rewards                         # get reward (for each agent)\n",
    "#        dones = env_info.local_done                        # see if episode finished\n",
    "#        scores += env_info.rewards                         # update the score (for each agent)\n",
    "#        states = next_states                               # roll over states to next time step\n",
    "#        if np.any(dones):                                  # exit loop if episode finished\n",
    "#            break\n",
    "#    print('Total score (averaged over agents) this episode: {}'.format(np.mean(scores)))"
   ]
  },
  {
   "cell_type": "markdown",
   "metadata": {},
   "source": [
    "When finished, you can close the environment."
   ]
  },
  {
   "cell_type": "code",
   "execution_count": 6,
   "metadata": {},
   "outputs": [],
   "source": [
    "#env.close()"
   ]
  },
  {
   "cell_type": "markdown",
   "metadata": {},
   "source": [
    "### 4. It's Your Turn!\n",
    "\n",
    "Now it's your turn to train your own agent to solve the environment!  A few **important notes**:\n",
    "- When training the environment, set `train_mode=True`, so that the line for resetting the environment looks like the following:\n",
    "```python\n",
    "env_info = env.reset(train_mode=True)[brain_name]\n",
    "```\n",
    "- To structure your work, you're welcome to work directly in this Jupyter notebook, or you might like to start over with a new file!  You can see the list of files in the workspace by clicking on **_Jupyter_** in the top left corner of the notebook.\n",
    "- In this coding environment, you will not be able to watch the agents while they are training.  However, **_after training the agents_**, you can download the saved model weights to watch the agents on your own machine! "
   ]
  },
  {
   "cell_type": "code",
   "execution_count": null,
   "metadata": {},
   "outputs": [
    {
     "name": "stdout",
     "output_type": "stream",
     "text": [
      "Number of agents: 2\n",
      "Number of actions: 2\n",
      "There are 2 agents. Each observes a state with length: 24\n",
      "Episode 100\tAverage Score: 0.000\n",
      "Episode 200\tAverage Score: 0.000\n",
      "Episode 300\tAverage Score: 0.000\n",
      "Episode 400\tAverage Score: 0.000\n",
      "Episode 500\tAverage Score: 0.000\n",
      "Episode 600\tAverage Score: 0.000\n",
      "Episode 700\tAverage Score: 0.000\n",
      "Episode 800\tAverage Score: 0.000\n",
      "Episode 900\tAverage Score: 0.000\n",
      "Episode 1000\tAverage Score: 0.000\n",
      "Episode 1100\tAverage Score: 0.000\n",
      "Episode 1200\tAverage Score: 0.000\n",
      "Episode 1300\tAverage Score: 0.000\n",
      "Episode 1400\tAverage Score: 0.000\n",
      "Episode 1500\tAverage Score: 0.000\n",
      "Episode 1600\tAverage Score: 0.000\n",
      "Episode 1700\tAverage Score: 0.000\n",
      "Episode 1800\tAverage Score: 0.000\n",
      "Episode 1900\tAverage Score: 0.000\n",
      "Episode 2000\tAverage Score: 0.000\n",
      "Episode 2014\tAverage Score: 0.000"
     ]
    }
   ],
   "source": [
    "import numpy as np \n",
    "import torch \n",
    "import random\n",
    "from collections import deque\n",
    "#from TD3.td3_agent import Agent\n",
    "import matplotlib.pyplot as plt\n",
    "from DDPG.ddpg_agent import Agent\n",
    "\n",
    "#def td3(env):\n",
    "#    \"\"\" Twin Delayed Deep Deterministic Policy Gradients \"\"\"\n",
    "def ddpg(env):\n",
    "    # Number of episodes of agent-environment interactions\n",
    "    n_episodes=4000 \n",
    "    # Number of timesteps per episode\n",
    "    max_t = 1000\n",
    "    \n",
    "    flag = False # When environment is technically solved\n",
    "    \n",
    "     # get the default brain\n",
    "    brain_name = env.brain_names[0]\n",
    "    brain = env.brains[brain_name]\n",
    "    \n",
    "    env_info = env.reset(train_mode=True)[brain_name]\n",
    "    \n",
    "    # number of agents\n",
    "    num_agents = len(env_info.agents)\n",
    "    print('Number of agents:', num_agents)\n",
    "    \n",
    "    # number of actions\n",
    "    action_size = brain.vector_action_space_size\n",
    "    print('Number of actions:', action_size)\n",
    "    \n",
    "    # examine the state space \n",
    "    states = env_info.vector_observations\n",
    "    state_size = states.shape[1]\n",
    "    print('There are {} agents. Each observes a state with length: {}'.format(states.shape[0], state_size))\n",
    "    #print('The state for the first agent looks like:', states[0])\n",
    "    \n",
    "    agent = Agent(state_size, action_size, random_seed=2)\n",
    "\n",
    "    # list containing scores from each episodes    \n",
    "    scores = [] \n",
    "    # last 100 scores\n",
    "    scores_window = deque(maxlen=100)\n",
    "    \n",
    "    for i_episode in range(1, n_episodes + 1):\n",
    "        \n",
    "        #reset average max score\n",
    "        average_score = 0\n",
    "        # reset the environment\n",
    "        env_info = env.reset(train_mode=True)[brain_name]\n",
    "                \n",
    "       # get the current state (for each agent)\n",
    "        states = env_info.vector_observations\n",
    "\n",
    "        # initialize the score (for each agent)\n",
    "        scores_agents = np.zeros(num_agents)\n",
    "        score = 0\n",
    "        \n",
    "        for t in range(max_t):\n",
    "            # choose actions\n",
    "            actions = agent.act(states)\n",
    "            \n",
    "            # send the actions to the environment            \n",
    "            env_info = env.step(actions)[brain_name]\n",
    "           \n",
    "            # get the next state\n",
    "            next_states = env_info.vector_observations\n",
    "    \n",
    "            # get the rewards\n",
    "            rewards = env_info.rewards\n",
    "            \n",
    "            # see if episode has finished\n",
    "            dones = env_info.local_done\n",
    "            \n",
    "            # step \n",
    "            # agents performs internal updates based on sampled experience\n",
    "            agent.step(states, actions, rewards, next_states, dones)\n",
    "            \n",
    "            # accumulate rewards into score variable\n",
    "            scores_agents += rewards\n",
    "            \n",
    "            # get next_states and set it to states\n",
    "            states = next_states\n",
    "                   \n",
    "            if np.any(dones): \n",
    "                break\n",
    "\n",
    "        # save most recent scores (max amongst the agents)\n",
    "        score = (np.max(scores_agents))\n",
    "        scores_window.append(score)\n",
    "        average_score = np.mean(scores_window)\n",
    "        scores.append(score)\n",
    "        \n",
    "        print('\\rEpisode {}\\tAverage Score: {:.3f}'.format(i_episode, average_score), end=\"\")\n",
    "        \n",
    "        if (i_episode % 100 == 0):\n",
    "            print(\"\\rEpisode {}\\tAverage Score: {:.3f}\".format(i_episode, \\\n",
    "                                                              average_score))\n",
    "               \n",
    "        # Check if envionment solved \n",
    "        if not flag:\n",
    "            if (average_score >= 0.5):\n",
    "                print(\"\\nEnvironment solved in {:d} episodes!\\tAverage Score: {:.3f}\".format(\n",
    "                i_episode, average_score))\n",
    "                # Save solved models \n",
    "                agent.save_models()   \n",
    "                flag = True\n",
    "                \n",
    "                break\n",
    "                \n",
    "    return scores\n",
    "\n",
    "from utils.workspace_utils import active_session \n",
    "with active_session():\n",
    "#    scores = td3(env)\n",
    "    scores = ddpg(env)\n",
    "\n"
   ]
  },
  {
   "cell_type": "code",
   "execution_count": null,
   "metadata": {},
   "outputs": [],
   "source": [
    "\n",
    "# plot the scores\n",
    "fig = plt.figure(figsize=(12, 10))\n",
    "ax = fig.add_subplot(111)\n",
    "plt.plot(np.arange(len(scores)), scores)\n",
    "plt.xlabel('Episode number')\n",
    "plt.ylabel('Score')\n",
    "plt.show()\n",
    "\n"
   ]
  },
  {
   "cell_type": "code",
   "execution_count": null,
   "metadata": {},
   "outputs": [],
   "source": [
    "env.close()"
   ]
  }
 ],
 "metadata": {
  "kernelspec": {
   "display_name": "Python 3",
   "language": "python",
   "name": "python3"
  },
  "language_info": {
   "codemirror_mode": {
    "name": "ipython",
    "version": 3
   },
   "file_extension": ".py",
   "mimetype": "text/x-python",
   "name": "python",
   "nbconvert_exporter": "python",
   "pygments_lexer": "ipython3",
   "version": "3.6.3"
  }
 },
 "nbformat": 4,
 "nbformat_minor": 2
}
